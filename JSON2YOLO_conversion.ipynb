{
 "cells": [
  {
   "cell_type": "code",
   "execution_count": 1,
   "id": "f8ceee87-c8ef-4448-992c-96577b8a1f71",
   "metadata": {},
   "outputs": [],
   "source": [
    "import json\n",
    "import cv2\n",
    "\n",
    "def normalize_polygon_points(polygon_points, image_width, image_height):\n",
    "    normalized_points = []\n",
    "    for x, y in polygon_points:\n",
    "        normalized_x = x / image_width\n",
    "        normalized_y = y / image_height\n",
    "        normalized_points.append(normalized_x)\n",
    "        normalized_points.append(normalized_y)\n",
    "    return normalized_points"
   ]
  },
  {
   "cell_type": "code",
   "execution_count": 3,
   "id": "e9ccf93b-f7eb-4c2e-8e2d-cca640afdab6",
   "metadata": {},
   "outputs": [],
   "source": [
    "import os\n",
    "import shutil\n",
    "pt = './Labels/'\n",
    "sp = './Output/'\n",
    "nm = set([i.rpartition('.')[0]for i in os.listdir(pt)])\n",
    "for i in nm:\n",
    "    if os.path.exists(pt+i+'.json'):\n",
    "        if os.path.exists(pt+i+'.jpg'):\n",
    "            im = cv2.imread(pt+i+'.jpg')\n",
    "            shutil.copy(pt+i+'.jpg',sp+i+'.jpg')\n",
    "        elif os.path.exists(pt+i+'.jpeg'):\n",
    "            im = cv2.imread(pt+i+'.jpeg')\n",
    "            shutil.copy(pt+i+'.jpeg',sp+i+'.jpeg')\n",
    "        elif os.path.exists(pt+i+'.png'):\n",
    "            im = cv2.imread(pt+i+'.png')\n",
    "            shutil.copy(pt+i+'.png',sp+i+'.png')\n",
    "        else:\n",
    "            continue\n",
    "        image_height,image_width,_ = im.shape\n",
    "        class_id = 0\n",
    "        with open(pt+i+'.json', 'r') as j:\n",
    "             contents = json.loads(j.read())\n",
    "        yolo_label = []\n",
    "        for j in contents[\"shapes\"]:\n",
    "            polygon_points = j[\"points\"]\n",
    "            normalized_points = normalize_polygon_points(polygon_points, image_width, image_height)\n",
    "            yolo_label.append(f\"{class_id} \" + \" \".join(map(str, normalized_points)))\n",
    "        with open(sp+i+'.txt', 'w') as file:\n",
    "            for item in yolo_label:\n",
    "                file.write(item)\n",
    "                file.write('\\n')"
   ]
  },
  {
   "cell_type": "code",
   "execution_count": null,
   "id": "d53c4bb1-5e63-458e-ab79-ebd97bc42ed4",
   "metadata": {},
   "outputs": [],
   "source": []
  },
  {
   "cell_type": "code",
   "execution_count": 3,
   "id": "ea929c4d-98c3-42f2-9c96-f5d646f6b27b",
   "metadata": {},
   "outputs": [],
   "source": [
    "import os \n",
    "import shutil\n",
    "ip = '../dataset/val/images/'\n",
    "p1 = '../Output/'\n",
    "s1 = '../dataset/val/labels/'\n",
    "for i in os.listdir(ip):\n",
    "    nm = i.rpartition('.')[0]+'.txt'\n",
    "    shutil.copy(p1+nm,s1+nm)"
   ]
  },
  {
   "cell_type": "code",
   "execution_count": null,
   "id": "f9a32a4d-2030-4e5f-b813-ad4a9a743707",
   "metadata": {},
   "outputs": [],
   "source": []
  }
 ],
 "metadata": {
  "kernelspec": {
   "display_name": "Python 3 (ipykernel)",
   "language": "python",
   "name": "python3"
  },
  "language_info": {
   "codemirror_mode": {
    "name": "ipython",
    "version": 3
   },
   "file_extension": ".py",
   "mimetype": "text/x-python",
   "name": "python",
   "nbconvert_exporter": "python",
   "pygments_lexer": "ipython3",
   "version": "3.11.11"
  }
 },
 "nbformat": 4,
 "nbformat_minor": 5
}
